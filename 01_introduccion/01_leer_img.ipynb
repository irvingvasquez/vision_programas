{
 "cells": [
  {
   "cell_type": "markdown",
   "metadata": {},
   "source": [
    "# Introducción a la Visión Computacional\n",
    "\n",
    "Bienvenido al curso de **Visión Computacional con OpenCV**, un espacio diseñado para introducirte al fascinante mundo donde las computadoras “ven” e interpretan imágenes y videos. A lo largo de este curso, aprenderás los fundamentos de la visión computacional a través de ejercicios prácticos de programación, que te permitirán comprender cómo las máquinas pueden reconocer objetos, detectar rostros, seguir movimientos y mucho más.\n",
    "\n",
    "### ¿Qué es OpenCV?\n",
    "\n",
    "OpenCV (Open Source Computer Vision Library) es una biblioteca de código abierto ampliamente utilizada para aplicaciones de visión por computadora y aprendizaje automático. Desarrollada inicialmente por Intel en el año 2000, y ahora mantenida por una comunidad activa de desarrolladores, OpenCV ha sido una piedra angular en el crecimiento de esta área, al proporcionar herramientas potentes, eficientes y gratuitas para procesar imágenes y videos.\n",
    "\n",
    "Gracias a su flexibilidad, velocidad y soporte para múltiples plataformas (Windows, Linux, macOS, Android, iOS), OpenCV se ha convertido en una herramienta estándar en el desarrollo de aplicaciones como reconocimiento facial, conducción autónoma, realidad aumentada, robótica, entre muchas otras.\n",
    "\n",
    "### ¿Qué aprenderás?\n",
    "\n",
    "Este curso se basa en el aprendizaje **haciendo**. A través de ejercicios prácticos en Python, explorarás conceptos clave como:\n",
    "\n",
    "- Carga y manipulación de imágenes\n",
    "- Transformaciones geométricas y filtrado\n",
    "- Detección de bordes y contornos\n",
    "- Detección de objetos\n",
    "- Seguimiento de movimiento en video\n",
    "- Aplicaciones de visión con inteligencia artificial\n",
    "\n",
    "No necesitas conocimientos previos avanzados en visión computacional, pero sí es recomendable tener experiencia básica en programación con Python.\n",
    "\n",
    "Al finalizar este curso, tendrás las herramientas necesarias para comenzar tus propios proyectos en visión computacional y comprenderás cómo esta tecnología está cambiando industrias enteras.\n"
   ]
  },
  {
   "cell_type": "markdown",
   "metadata": {},
   "source": [
    "## Leer imagenes en OpenCV\n",
    "\n",
    "En OpenCV, las imágenes no son objetos especiales ni estructuras complicadas: **son simplemente arreglos de números**, es decir, **matrices**. Estos arreglos representan los valores de intensidad de los píxeles que componen una imagen.\n",
    "\n",
    "OpenCV utiliza principalmente **arrays de NumPy** para representar las imágenes, lo que permite manipularlas fácilmente con operaciones matemáticas y lógicas.\n",
    "\n",
    "### Imágenes en escala de grises\n",
    "\n",
    "Una imagen en escala de grises se representa como una matriz 2D (dos dimensiones), donde cada elemento es un número entre 0 y 255:\n",
    "\n",
    "- `0` representa el negro absoluto.\n",
    "- `255` representa el blanco absoluto.\n",
    "- Los valores intermedios representan tonos de gris.\n",
    "\n",
    "Ejemplo:\n",
    "```python\n",
    "import cv2\n",
    "\n",
    "img = cv2.imread('imagen.jpg', cv2.IMREAD_GRAYSCALE)\n",
    "print(img.shape)  # Salida: (alto, ancho)\n",
    "```\n",
    "\n",
    "### Imágenes a color (RGB en OpenCV: BGR)\n",
    "\n",
    "Las imágenes a color se representan como matrices 3D (tres dimensiones). Cada píxel tiene tres valores que indican la intensidad de los colores **Azul (Blue), Verde (Green) y Rojo (Red)**. **¡Importante!**: OpenCV usa el orden **BGR**, no RGB.\n",
    "\n",
    "La estructura sería:\n",
    "```\n",
    "img[y, x] = [B, G, R]\n",
    "```\n",
    "Donde:\n",
    "- `y` es la fila (alto),\n",
    "- `x` es la columna (ancho),\n",
    "- y `[B, G, R]` son los valores del color para ese píxel.\n",
    "\n",
    "Ejemplo:\n",
    "```python\n",
    "img = cv2.imread('imagen.jpg')\n",
    "print(img.shape)  # Salida: (alto, ancho, 3)\n",
    "print(img[100, 200])  # Muestra los valores BGR del píxel en (100, 200)\n",
    "```\n",
    "\n",
    "En este primer ejemplo de programación leeremos un archivo de imagen y observaremos sus características."
   ]
  },
  {
   "cell_type": "code",
   "execution_count": null,
   "metadata": {},
   "outputs": [],
   "source": [
    "# El primer paso es decirle al intérprete que paquetes necesitamos\n",
    "import matplotlib.pyplot as plt\n",
    "import cv2\n",
    "%matplotlib inline"
   ]
  },
  {
   "cell_type": "markdown",
   "metadata": {},
   "source": [
    "A continuación usaremos la función de *opencv* \"imread\" para leer la imagen de Lenna y convertirla a una matriz."
   ]
  },
  {
   "cell_type": "code",
   "execution_count": null,
   "metadata": {},
   "outputs": [],
   "source": [
    "# Ejercicio: Leer la imagen 'Lenna.png' con opencv y la función imread\n",
    "image = None\n",
    "\n",
    "# imprimir los valores de los pixeles en la imagen\n",
    "print(image)"
   ]
  },
  {
   "cell_type": "code",
   "execution_count": null,
   "metadata": {},
   "outputs": [],
   "source": [
    "# Para obtener información de la imagen podemos utilizar dtype y shape\n",
    "print(image.shape)\n",
    "print(image.dtype)"
   ]
  },
  {
   "cell_type": "code",
   "execution_count": null,
   "metadata": {},
   "outputs": [],
   "source": [
    "# Graficar la imagen. \n",
    "# Nota: OpenCV lee los canales de la imagen como BGR, \n",
    "# asi que para graficarla es necesario antes convertirla a RGB y que la entienda matplotlib\n",
    "plt.imshow(cv2.cvtColor(image, cv2.COLOR_BGR2RGB))  "
   ]
  },
  {
   "cell_type": "code",
   "execution_count": null,
   "metadata": {},
   "outputs": [],
   "source": [
    "# Si deseas desplegar la imagen en escala de grises puedes convertirla a un solo canal y después mostrarla.  \n",
    "gray_image = cv2.cvtColor(image, cv2.COLOR_BGR2GRAY)\n",
    "\n",
    "# Ejercicio: Obtener información de la imagen de gris usando funciones de numpy dtype y shape\n",
    "im_type = None\n",
    "shape = None\n",
    "\n",
    "print('Esta imagen es de tipo:', gray_image.dtype, 'con dimensiones:', gray_image.shape)\n",
    "plt.imshow(gray_image, cmap='gray')\n"
   ]
  },
  {
   "cell_type": "markdown",
   "metadata": {},
   "source": [
    "Cuando trabajamos con imágenes digitales en OpenCV (o en general), estamos lidiando con una representación **discreta** de una realidad continua. Para convertir una imagen del mundo real (continua) en una digital (discreta), se utilizan dos procesos fundamentales:\n",
    "\n",
    "\n",
    "### 1. **Muestreo (Sampling)**\n",
    "\n",
    "El **muestreo** consiste en dividir una imagen continua en una **rejilla de píxeles**. Cada píxel representa una pequeña porción de la imagen original. Es decir, estamos escogiendo **qué puntos del espacio vamos a guardar**.\n",
    "\n",
    "- Cuanto mayor es la resolución (más píxeles), más fiel es la imagen digital al original.\n",
    "- En OpenCV, al cargar una imagen, el número de filas y columnas de la matriz (`img.shape`) corresponde al resultado del muestreo: el **alto** y **ancho** de la imagen en píxeles.\n",
    "\n",
    "Ejemplo de muestreo:\n",
    "```python\n",
    "import cv2\n",
    "img = cv2.imread('imagen.jpg')\n",
    "print(img.shape)  # (alto, ancho, canales)\n",
    "```\n",
    "\n",
    "### 2. **Cuantización (Quantization)**\n",
    "\n",
    "La **cuantización** se refiere a cómo se asignan **valores numéricos** a la información capturada en cada píxel, es decir, cómo representamos la intensidad de luz o color con números finitos.\n",
    "\n",
    "- En imágenes en escala de grises, cada píxel toma un valor entre 0 y 255 (8 bits).\n",
    "- En imágenes a color, cada canal (B, G, R) tiene su propio valor entre 0 y 255, lo que permite hasta **256 × 256 × 256 ≈ 16.7 millones de colores**.\n",
    "\n",
    "Este proceso implica una **pérdida de precisión**, porque se redondean los valores reales a los niveles disponibles.\n",
    "\n",
    "Ejemplo: si un sensor capta un valor de intensidad real de 132.7, al cuantizarlo con 8 bits, se redondea a 133."
   ]
  },
  {
   "cell_type": "markdown",
   "metadata": {},
   "source": [
    "## Ejercicio:\n",
    "\n",
    "Dada la imagen 'Monkey.png'. Determina: i) El muestreo. ii) La cuantización."
   ]
  },
  {
   "cell_type": "code",
   "execution_count": null,
   "metadata": {},
   "outputs": [],
   "source": [
    "#TODO (2 puntos): Completa el código faltante\n",
    "\n",
    "# Escribe el muestreo como una tupla\n",
    "sampling = None\n",
    "\n",
    "# Escribe la cuantización como un tipo de dato\n",
    "quantization = None"
   ]
  },
  {
   "cell_type": "code",
   "execution_count": null,
   "metadata": {},
   "outputs": [],
   "source": []
  }
 ],
 "metadata": {
  "kernelspec": {
   "display_name": "Python 2",
   "language": "python",
   "name": "python2"
  },
  "language_info": {
   "codemirror_mode": {
    "name": "ipython",
    "version": 2
   },
   "file_extension": ".py",
   "mimetype": "text/x-python",
   "name": "python",
   "nbconvert_exporter": "python",
   "pygments_lexer": "ipython2",
   "version": "2.7.15"
  },
  "widgets": {
   "state": {},
   "version": "1.1.2"
  }
 },
 "nbformat": 4,
 "nbformat_minor": 2
}
