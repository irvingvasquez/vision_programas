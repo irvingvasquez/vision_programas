{
 "cells": [
  {
   "cell_type": "markdown",
   "metadata": {},
   "source": [
    "# Correlación cruzada\n",
    "\n",
    "La correlación cruzada nos permite filtrar una imagen a través del uso de un kernel. En este ejercicio implementaremos la correlación cruzada.\n",
    "\n",
    "La definición de la operación es la siguiente:\n",
    "$$\n",
    "\tG[i,j] =  \\sum_{u=-k}^{k} \\sum_{v=-k}^{k} H[u,v] I[i+u,j+v]\n",
    "$$\n",
    "donde $I$ es la imagen de entrada y $H$ el kernel.\n",
    "\n",
    "Visualmente tendríamos algo similar a la siguiente figura. Donde la imagen original esta en azul y la imagen resultante está en verde.\n",
    "\n",
    "![](full_padding_no_strides_transposed_00.png)"
   ]
  },
  {
   "cell_type": "code",
   "execution_count": null,
   "metadata": {},
   "outputs": [],
   "source": [
    "# paquetes necesarios\n",
    "import matplotlib.pyplot as plt\n",
    "import numpy as np\n",
    "import cv2\n",
    "%matplotlib inline"
   ]
  },
  {
   "cell_type": "markdown",
   "metadata": {},
   "source": [
    "## Implementación del kernel\n",
    "\n",
    "El kernel ($H$) es una matriz cuadrada cuyas dimensiones son $(2k+1) \\times (2k+1)$, donde $k$ es un número entero positivo. Al utilizar el parámetro $k$ aseguramos que el kernel tenga tamaño impar. Los elementos de $k$ pueden tener valores arbitrarios de acuerdo al efecto que deseemos (los veremos más tarde). Por ahora, diremos que es deseable que la sumatoria de sus elementos sea igual a 1, si la sumatoria no es igual a 1 la imagen de salida será escalada. \n",
    "\n",
    "En este ejemplo, supondremos que $k=1$ y que los elementos de $H$ son iguales. Por tanto, cada elemento de $H$ es igual a $\\dfrac{1}{(2k+1)^2}$ Es decir: \n",
    "\n",
    "\\begin{equation}\n",
    "H =\n",
    "\\begin{array}{|c|c|c|}\n",
    "\t\t\t\\hline\n",
    "\t\t\t\\frac{1}{9} & \\frac{1}{9} & \\frac{1}{9} \\\\ \n",
    "\t\t\t\\hline\n",
    "\t\t\t\\frac{1}{9} & \\frac{1}{9} & \\frac{1}{9} \\\\ \n",
    "\t\t\t\\hline\n",
    "\t\t\t\\frac{1}{9} & \\frac{1}{9} & \\frac{1}{9} \\\\\n",
    "\t\t\t\\hline\n",
    "\\end{array}\n",
    "\\end{equation}"
   ]
  },
  {
   "cell_type": "code",
   "execution_count": null,
   "metadata": {},
   "outputs": [],
   "source": [
    "# Definir kernel (filtro)\n",
    "k = 1\n",
    "tamano = 2 * k + 1\n",
    "# Utiliza la funcion ones de numpy\n",
    "kernel = None\n",
    "\n",
    "# imprimir el filtro\n",
    "print(kernel)\n",
    "plt.imshow(kernel)\n",
    "plt.show()"
   ]
  },
  {
   "cell_type": "markdown",
   "metadata": {},
   "source": [
    "## Implementar correlación-cruzada\n",
    "\n",
    "Recordando que:\n",
    "\n",
    "$$\n",
    "\tG[i,j] =  \\sum_{u=-k}^{k} \\sum_{v=-k}^{k} H[u,v] I[i+u,j+v]\n",
    "$$\n",
    "donde $I$ es la imagen de entrada y $H$ el kernel.\n",
    "\n",
    "### Padding\n",
    "\n",
    "Si el kernel 'queda' fuera de la imagen original el resultado debe ser 0. A este proceso de determinar que hacer cuando el kernel queda fuera le llamaremos 'padding'. Para este ejemplo estamos usando un 'padding' *igual* por que la imagen resultante queda del mismo tamaño.\n",
    "\n",
    "![](same_padding_no_strides_00.png)"
   ]
  },
  {
   "cell_type": "code",
   "execution_count": null,
   "metadata": {},
   "outputs": [],
   "source": [
    "# Primero implementaremos la función tal cual se definió para el elemento i,j\n",
    "def correlacionPixel(H, I, i, j):    \n",
    "    # Realiza la operación de correlación para el pixel i, j\n",
    "    # Valida que accedas a elementos válidos en I\n",
    "    m, n = I.shape\n",
    "    sumatoria = 0\n",
    "\n",
    "    #TAREA: Completar el código\n",
    "    \n",
    "    return sumatoria\n",
    "\n",
    "def correlacionCruzada(H, I):\n",
    "    dkm1, _ = H.shape\n",
    "    k = (dkm1 - 1)/2\n",
    "    m, n = I.shape\n",
    "    G = np.zeros((m,n))\n",
    "\n",
    "    # Realiza la correlación para cada elemento de I\n",
    "    # Tip: usa la función de correlacionPixel\n",
    "        \n",
    "    return G"
   ]
  },
  {
   "cell_type": "markdown",
   "metadata": {},
   "source": [
    "## Validar función"
   ]
  },
  {
   "cell_type": "code",
   "execution_count": null,
   "metadata": {},
   "outputs": [],
   "source": [
    "#Valida el resultado para un elemento de una imagen de prueba\n",
    "Ip = np.ones((5,5))\n",
    "print(Ip)\n",
    "\n",
    "print(correlacionPixel(H = kernel, I=Ip, i=1,j=1))"
   ]
  },
  {
   "cell_type": "code",
   "execution_count": null,
   "metadata": {},
   "outputs": [],
   "source": [
    "# Leer la imagen con ruido de sal y pimienta\n",
    "lenna_sp = cv2.imread('lenna_sp.png')\n",
    "lenna_sp = cv2.cvtColor(lenna_sp, cv2.COLOR_BGR2GRAY)\n",
    "\n",
    "# Desplegar información y graficar la imagen\n",
    "print('Esta imagen es de tipo:', lenna_sp.dtype, 'con dimensiones:', lenna_sp.shape)\n",
    "plt.imshow(lenna_sp, cmap = 'gray') \n",
    "plt.show()"
   ]
  },
  {
   "cell_type": "code",
   "execution_count": null,
   "metadata": {},
   "outputs": [],
   "source": [
    "#aplicar la correlación cruzada\n",
    "resultado = correlacionCruzada(H = kernel, I = lenna_sp)\n",
    "\n",
    "plt.figure(figsize=(12, 12))\n",
    "\n",
    "plt.subplot(221)\n",
    "plt.imshow(lenna_sp, cmap = 'gray')\n",
    "plt.title('Sal y pimienta')\n",
    "\n",
    "plt.subplot(222)\n",
    "plt.imshow(resultado, cmap = 'gray')\n",
    "plt.title('Filtro de correlacion cruzada')\n",
    "\n",
    "plt.show()"
   ]
  },
  {
   "cell_type": "code",
   "execution_count": null,
   "metadata": {},
   "outputs": [],
   "source": []
  }
 ],
 "metadata": {
  "kernelspec": {
   "display_name": "Python 2",
   "language": "python",
   "name": "python2"
  },
  "language_info": {
   "codemirror_mode": {
    "name": "ipython",
    "version": 2
   },
   "file_extension": ".py",
   "mimetype": "text/x-python",
   "name": "python",
   "nbconvert_exporter": "python",
   "pygments_lexer": "ipython2",
   "version": "2.7.15"
  },
  "widgets": {
   "state": {},
   "version": "1.1.2"
  }
 },
 "nbformat": 4,
 "nbformat_minor": 2
}
