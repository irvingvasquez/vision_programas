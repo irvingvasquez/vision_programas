{
 "cells": [
  {
   "cell_type": "markdown",
   "metadata": {},
   "source": [
    "# Filtrado\n",
    "\n",
    "En este notebook aprenderás como utilizar el filtrado y crearás un filtro Gaussiano.\n",
    "\n",
    "Irving Vasquez\n",
    "@juan1rving"
   ]
  },
  {
   "cell_type": "code",
   "execution_count": null,
   "metadata": {},
   "outputs": [],
   "source": [
    "# paquetes necesarios\n",
    "import matplotlib.pyplot as plt\n",
    "import matplotlib.image as mpimg\n",
    "import numpy as np\n",
    "import cv2\n",
    "from scipy.stats import multivariate_normal\n",
    "%matplotlib inline\n",
    "\n",
    "# Leer la imagen con ruido de sal y pimienta\n",
    "lenna_sp = mpimg.imread('lenna_sp.png')\n",
    "\n",
    "# Desplegar información y graficar la imagen\n",
    "#print('Esta imagen es de tipo:', type(imagen), 'con dimensiones:', imagen.shape)\n",
    "plt.imshow(lenna_sp, cmap = 'gray') \n",
    "\n"
   ]
  },
  {
   "cell_type": "code",
   "execution_count": null,
   "metadata": {},
   "outputs": [],
   "source": [
    "# Ahora mostraremos una imagen con ruido gaussiano\n",
    "lenna_gn = mpimg.imread('lenna_gn.png')\n",
    "plt.imshow(lenna_gn, cmap = 'gray') "
   ]
  },
  {
   "cell_type": "markdown",
   "metadata": {},
   "source": [
    "## Filtrado\n",
    "\n",
    "En este primer ejemplo utilizaremos un filtro 'media' o 'promedio' y realizaremos la convolución entre la imagen y el filtro.\n",
    "\n",
    "Filtro media:\n",
    "\\begin{equation}\n",
    "\\begin{array}{|c|c|c|}\n",
    "\t\t\t\\hline\n",
    "\t\t\t\\frac{1}{9} & \\frac{1}{9} & \\frac{1}{9} \\\\ \n",
    "\t\t\t\\hline\n",
    "\t\t\t\\frac{1}{9} & \\frac{1}{9} & \\frac{1}{9} \\\\ \n",
    "\t\t\t\\hline\n",
    "\t\t\t\\frac{1}{9} & \\frac{1}{9} & \\frac{1}{9} \\\\\n",
    "\t\t\t\\hline\n",
    "\\end{array}\n",
    "\\end{equation}"
   ]
  },
  {
   "cell_type": "code",
   "execution_count": null,
   "metadata": {},
   "outputs": [],
   "source": [
    "# Definir kernel (filtro)\n",
    "k = 1\n",
    "tamano = 2 * k + 1\n",
    "kernel = np.ones((tamano, tamano),np.float32)/(tamano**2)\n",
    "\n",
    "# imprimir el filtro\n",
    "plt.imshow(kernel)\n",
    "plt.show()\n",
    "\n",
    "# Operación de convolución 2D entre el filtro y la imagen\n",
    "img_filtrada = cv2.filter2D(lenna_sp,-1,kernel)\n",
    "\n",
    "#imprimir la magen convolucionada\n",
    "plt.imshow(img_filtrada, cmap='gray')"
   ]
  },
  {
   "cell_type": "code",
   "execution_count": null,
   "metadata": {},
   "outputs": [],
   "source": [
    "# Ejercicio: \n",
    "# 1. Aplica el filtro de media a la imagen con ruido gaussiano\n",
    "# 2. Genera un kernel gaussiano\n",
    "# 3. Modifica los valores del filtro y observa los resultados\n"
   ]
  },
  {
   "cell_type": "markdown",
   "metadata": {},
   "source": [
    "## Kernel Gaussiano\n",
    "\n",
    "Generaremos un filtro Gaussiano\n",
    "\n",
    "Ahora aplicaremos el filtro gaussiano de opencv"
   ]
  },
  {
   "cell_type": "code",
   "execution_count": null,
   "metadata": {},
   "outputs": [],
   "source": [
    "# definir el tamaño del nuevo filtro\n",
    "k = 5\n",
    "tamano = 2 * k + 1\n",
    "kernel_gaussiano = np.ones((tamano, tamano),np.float32)\n",
    "\n",
    "# Definir los parámetros de la función gaussiana \n",
    "mean = [0, 0]\n",
    "cov = [[8, 0], [0, 8]]  # diagonal covariance\n",
    "\n",
    "# Para evaluar la función de densidad gaussiana utilizaremos la siguiente función\n",
    "x = [0, 0]\n",
    "y = multivariate_normal.pdf(x, mean, cov)\n",
    "\n",
    "# Ahora rellenamos el kernel\n",
    "for i in range(tamano):\n",
    "    for j in range(tamano):\n",
    "        x = [-k + i, -k + j]\n",
    "        w = multivariate_normal.pdf(x, mean, cov)\n",
    "        kernel_gaussiano[i][j] = w\n",
    "\n",
    "# imprimimos el kernel\n",
    "plt.imshow(kernel_gaussiano)\n",
    "\n"
   ]
  },
  {
   "cell_type": "code",
   "execution_count": null,
   "metadata": {},
   "outputs": [],
   "source": [
    "# Operación de convolución 2D entre el filtro y la imagen\n",
    "img_difuminada = cv2.filter2D(lenna_gn,-1,kernel_gaussiano)\n",
    "\n",
    "# OpenCV ya tiene implementado un filtro gaussiano\n",
    "sigma = 5\n",
    "size = 5\n",
    "blur = cv2.GaussianBlur(lenna_gn,(5,5),sigma)\n",
    "\n",
    "# plot with various axes scales\n",
    "plt.figure(figsize=(10, 10))\n",
    "\n",
    "plt.subplot(221)\n",
    "plt.imshow(img_difuminada, cmap = 'gray')\n",
    "plt.title('Filtro propio')\n",
    "\n",
    "plt.subplot(222)\n",
    "plt.imshow(blur, cmap = 'gray')\n",
    "plt.title('OpenCV')\n",
    "\n",
    "plt.show()"
   ]
  },
  {
   "cell_type": "markdown",
   "metadata": {},
   "source": [
    "Al parecer no estamos obteniendo los mismos resultados.\n",
    "\n",
    "Puedes modificar el filtro para obtener resultados similares?"
   ]
  },
  {
   "cell_type": "code",
   "execution_count": null,
   "metadata": {},
   "outputs": [],
   "source": []
  }
 ],
 "metadata": {
  "kernelspec": {
   "display_name": "Python 3",
   "language": "python",
   "name": "python3"
  },
  "language_info": {
   "codemirror_mode": {
    "name": "ipython",
    "version": 3
   },
   "file_extension": ".py",
   "mimetype": "text/x-python",
   "name": "python",
   "nbconvert_exporter": "python",
   "pygments_lexer": "ipython3",
   "version": "3.5.2"
  },
  "widgets": {
   "state": {},
   "version": "1.1.2"
  }
 },
 "nbformat": 4,
 "nbformat_minor": 2
}
