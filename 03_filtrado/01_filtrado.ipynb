{
 "cells": [
  {
   "cell_type": "markdown",
   "metadata": {},
   "source": [
    "# Filtrado\n",
    "\n",
    "En este notebook aprenderás que el el fitrado y como utilizar algunos filtros ya implementados en opencv.\n",
    "\n",
    "Irving Vasquez\n",
    "@juan1rving"
   ]
  },
  {
   "cell_type": "code",
   "execution_count": null,
   "metadata": {},
   "outputs": [],
   "source": [
    "# paquetes necesarios\n",
    "import matplotlib.pyplot as plt\n",
    "import matplotlib.image as mpimg\n",
    "import numpy as np\n",
    "import cv2\n",
    "%matplotlib inline\n",
    "\n",
    "# Leer la imagen con ruido\n",
    "imagen = mpimg.imread('lenna_sp.png')\n",
    "\n",
    "# Desplegar información y graficar la imagen\n",
    "print('Esta imagen es de tipo:', type(imagen), 'con dimensiones:', imagen.shape)\n",
    "plt.imshow(imagen) \n",
    "\n"
   ]
  },
  {
   "cell_type": "code",
   "execution_count": null,
   "metadata": {
    "collapsed": true
   },
   "outputs": [],
   "source": [
    "# Ejercicio: genera una imagen con ruido Gaussiano\n",
    "# TODO: \n",
    "\n",
    "image_gaussian_noise = None"
   ]
  },
  {
   "cell_type": "markdown",
   "metadata": {},
   "source": [
    "## Filtrado\n",
    "\n",
    "En este primer ejemplo utilizaremos un filtro 'media' o 'promedio' y realizaremos la convolución entre la imagen y el filtro."
   ]
  },
  {
   "cell_type": "code",
   "execution_count": null,
   "metadata": {},
   "outputs": [],
   "source": [
    "# Definir kernel (filtro)\n",
    "k = 1\n",
    "tamano = 2 * k + 1\n",
    "kernel = np.ones((tamano, tamano),np.float32)/(tamano**2)\n",
    "\n",
    "# Operación de convolución 2D entre el filtro y la imagen\n",
    "img_filtrada = cv2.filter2D(imagen,-1,kernel)\n",
    "\n",
    "plt.imshow(img_filtrada)"
   ]
  },
  {
   "cell_type": "code",
   "execution_count": null,
   "metadata": {
    "collapsed": true
   },
   "outputs": [],
   "source": [
    "# Ejercicio: \n",
    "# 1. Aplica el filtro a la imagen que generaste con ruido gaussiano\n",
    "# 2. Modifica los valores del filtro y observa los resultados\n"
   ]
  }
 ],
 "metadata": {
  "kernelspec": {
   "display_name": "Python 3",
   "language": "python",
   "name": "python3"
  },
  "language_info": {
   "codemirror_mode": {
    "name": "ipython",
    "version": 3
   },
   "file_extension": ".py",
   "mimetype": "text/x-python",
   "name": "python",
   "nbconvert_exporter": "python",
   "pygments_lexer": "ipython3",
   "version": "3.5.2"
  },
  "widgets": {
   "state": {},
   "version": "1.1.2"
  }
 },
 "nbformat": 4,
 "nbformat_minor": 2
}
