{
 "cells": [
  {
   "cell_type": "markdown",
   "metadata": {},
   "source": [
    "# Ruido aleatorio\n",
    "\n",
    "Todos los sensores, incluyendo las cámaras, son afectadas por ruidos aleatorios. Por ejemplo, variaciones electromagnéticas externas o eléctricas internas. Este ruido afecta directamente los valores de intensidad de luz codificados en los pixeles.\n",
    "\n",
    "En este notebook observaremos como afecta el ruido a los pixeles de una imagen.\n",
    "\n"
   ]
  },
  {
   "cell_type": "code",
   "execution_count": null,
   "metadata": {},
   "outputs": [],
   "source": []
  }
 ],
 "metadata": {
  "kernelspec": {
   "display_name": "Python 2",
   "language": "python",
   "name": "python2"
  },
  "language_info": {
   "codemirror_mode": {
    "name": "ipython",
    "version": 2
   },
   "file_extension": ".py",
   "mimetype": "text/x-python",
   "name": "python",
   "nbconvert_exporter": "python",
   "pygments_lexer": "ipython2",
   "version": "2.7.15"
  },
  "widgets": {
   "state": {},
   "version": "1.1.2"
  }
 },
 "nbformat": 4,
 "nbformat_minor": 2
}
