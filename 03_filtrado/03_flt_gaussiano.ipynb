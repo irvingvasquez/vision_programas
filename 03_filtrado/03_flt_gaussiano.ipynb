{
 "cells": [
  {
   "cell_type": "markdown",
   "metadata": {},
   "source": [
    "# Filtrado Gaussiano\n",
    "\n",
    "El filtrado gaussiano permite disminuir el ruido de una imágen a partir de la premisa que la información del pixel de interés se encuentra repartida en los pixeles vecinos y que además los vecinos más cercanos contienen más información que los vecinos lejanos. A lo largo de ésta práctica veremos como se genera un kernel Gaussiano y como aplica mediante la operación de convolución.\n",
    "\n",
    "$$\n",
    "G = H \\star I\n",
    "$$\n",
    "\n",
    "Recordemos que la convolución se realiza a partir de la siguiente ecuación,\n",
    "\n",
    "$$\n",
    "\tG[i,j] =  \\sum_{u=-k}^{k} \\sum_{v=-k}^{k} H[u,v] I[i-u,j-v]\n",
    "$$\n",
    "\n"
   ]
  },
  {
   "cell_type": "code",
   "execution_count": null,
   "metadata": {},
   "outputs": [],
   "source": [
    "# paquetes necesarios\n",
    "import matplotlib.pyplot as plt\n",
    "import matplotlib.image as mpimg\n",
    "import numpy as np\n",
    "import cv2\n",
    "from scipy.stats import multivariate_normal\n",
    "%matplotlib inline\n",
    "\n",
    "# Leer la imagen con ruido de sal y pimienta\n",
    "lenna_sp = mpimg.imread('lenna_sp.png')\n",
    "\n",
    "# Desplegar información y graficar la imagen\n",
    "print('Esta imagen es de tipo:', type(lenna_sp), 'con dimensiones:', lenna_sp.shape)\n",
    "\n",
    "plt.figure(figsize=(12,12))\n",
    "plt.imshow(lenna_sp, cmap = 'gray') "
   ]
  },
  {
   "cell_type": "code",
   "execution_count": null,
   "metadata": {},
   "outputs": [],
   "source": [
    "# Ahora mostraremos una imagen con ruido gaussiano\n",
    "lenna_gn = mpimg.imread('lenna_gn.png')\n",
    "\n",
    "plt.figure(figsize=(12,12))\n",
    "plt.imshow(lenna_gn, cmap = 'gray') "
   ]
  },
  {
   "cell_type": "markdown",
   "metadata": {},
   "source": [
    "## Filtro de promedio\n",
    "\n",
    "En este primer ejemplo utilizaremos un filtro 'media' o 'promedio' y realizaremos la convolución entre la imagen y el filtro.\n",
    "$$\n",
    "H (i,j) = \\frac{1}{(2 k + 1)^2}\n",
    "$$\n",
    "Por ejemplo, si $k = 1$, entonces el filtro de media es:\n",
    "\\begin{equation}\n",
    "H =\n",
    "\\begin{array}{|c|c|c|}\n",
    "\t\t\t\\hline\n",
    "\t\t\t\\frac{1}{9} & \\frac{1}{9} & \\frac{1}{9} \\\\ \n",
    "\t\t\t\\hline\n",
    "\t\t\t\\frac{1}{9} & \\frac{1}{9} & \\frac{1}{9} \\\\ \n",
    "\t\t\t\\hline\n",
    "\t\t\t\\frac{1}{9} & \\frac{1}{9} & \\frac{1}{9} \\\\\n",
    "\t\t\t\\hline\n",
    "\\end{array}\n",
    "\\end{equation}"
   ]
  },
  {
   "cell_type": "code",
   "execution_count": null,
   "metadata": {},
   "outputs": [],
   "source": [
    "# Definir kernel (filtro)\n",
    "k = 1\n",
    "tamano = 2 * k + 1\n",
    "# RESOLVER\n",
    "kernel = None\n",
    "\n",
    "print(kernel)\n",
    "# imprimir el filtro\n",
    "plt.imshow(kernel)\n",
    "plt.show()\n",
    "\n",
    "# RESOLVER\n",
    "# Operación de convolución 2D entre el filtro y la imagen\n",
    "# TIP: usa la función filter 2D de OpenCV\n",
    "img_filtrada = None\n",
    "\n",
    "# plot with various axes scales\n",
    "plt.figure(figsize=(14, 14))\n",
    "\n",
    "plt.subplot(221)\n",
    "plt.imshow(lenna_gn, cmap = 'gray')\n",
    "plt.title('Imagen con ruido')\n",
    "\n",
    "plt.subplot(222)\n",
    "plt.imshow(img_filtrada, cmap = 'gray')\n",
    "plt.title('Filtro de promedio')\n",
    "\n",
    "plt.show()"
   ]
  },
  {
   "cell_type": "code",
   "execution_count": null,
   "metadata": {},
   "outputs": [],
   "source": [
    "# Ejercicio: \n",
    "# 1. Aplica el filtro de media a la imagen con ruido de sal y pimienta"
   ]
  },
  {
   "cell_type": "markdown",
   "metadata": {},
   "source": [
    "## Kernel Gaussiano\n",
    "\n",
    "A continuación generaremos un filtro Gaussiano de acuerdo a:\n",
    "\n",
    "$$\n",
    "H(x,y) = \\frac{1}{2 \\pi \\sigma ^{2}} e^{- \\frac{x^{2} + y^{2}}{2 \\sigma ^{2}}}\n",
    "$$\n",
    "\n",
    "Utilizando la libreria scipy podemos calcular el valor de la función con:\n",
    "```python\n",
    "h = multivariate_normal.pdf([x,y], mean, cov)\n",
    "```"
   ]
  },
  {
   "cell_type": "code",
   "execution_count": null,
   "metadata": {},
   "outputs": [],
   "source": [
    "# Ejercicio\n",
    "# 2. Genera un kernel gaussiano\n",
    "# 3. Modifica los valores del filtro y observa los resultados\n",
    "\n",
    "# definir el tamaño del nuevo filtro\n",
    "k = 2\n",
    "tamano = 2 * k + 1\n",
    "\n",
    "# RESOLVER: Definir los parámetros de la función gaussiana \n",
    "mean = None\n",
    "cov = None\n",
    "\n",
    "# Ahora rellenamos el kernel\n",
    "kernel_gaussiano = None\n",
    "\n",
    "# imprimimos el kernel\n",
    "plt.imshow(kernel_gaussiano)\n",
    "plt.show()\n",
    "\n"
   ]
  },
  {
   "cell_type": "code",
   "execution_count": null,
   "metadata": {},
   "outputs": [],
   "source": [
    "# RESOLVER: implementa el filtrado gaussiano\n",
    "# Operación de convolución 2D entre el kernel que generamos y la imagen objetivo\n",
    "img_difuminada = None\n",
    "\n",
    "# plot with various axes scales\n",
    "plt.figure(figsize=(14, 14))\n",
    "\n",
    "plt.subplot(221)\n",
    "plt.imshow(lenna_gn, cmap = 'gray')\n",
    "plt.title('Imagen con ruido')\n",
    "\n",
    "plt.subplot(222)\n",
    "plt.imshow(img_difuminada, cmap = 'gray')\n",
    "plt.title('Filtrado Gaussiano')\n",
    "\n",
    "plt.show()"
   ]
  },
  {
   "cell_type": "code",
   "execution_count": null,
   "metadata": {},
   "outputs": [],
   "source": [
    "# OpenCV ya tiene implementado un filtro gaussiano\n",
    "# Comparemos resultados\n",
    "\n",
    "sigma = 5\n",
    "size = 5\n",
    "blur = cv2.GaussianBlur(lenna_gn, (5,5), sigma)\n",
    "\n",
    "# plot with various axes scales\n",
    "plt.figure(figsize=(14, 14))\n",
    "\n",
    "plt.subplot(221)\n",
    "plt.imshow(lenna_gn, cmap = 'gray')\n",
    "plt.title('Imagen con ruido')\n",
    "\n",
    "plt.subplot(222)\n",
    "plt.imshow(img_filtrada, cmap = 'gray')\n",
    "plt.title('Filtro de promedio')\n",
    "\n",
    "plt.subplot(223)\n",
    "plt.imshow(img_difuminada, cmap = 'gray')\n",
    "plt.title('Filtro Gaussiano propio')\n",
    "\n",
    "plt.subplot(224)\n",
    "plt.imshow(blur, cmap = 'gray')\n",
    "plt.title('OpenCV')\n",
    "\n",
    "plt.show()"
   ]
  },
  {
   "cell_type": "markdown",
   "metadata": {},
   "source": [
    "Al parecer no estamos obteniendo los mismos resultados.\n",
    "\n",
    "Puedes modificar el filtro para obtener resultados similares?"
   ]
  },
  {
   "cell_type": "code",
   "execution_count": null,
   "metadata": {},
   "outputs": [],
   "source": []
  }
 ],
 "metadata": {
  "kernelspec": {
   "display_name": "Python 2",
   "language": "python",
   "name": "python2"
  },
  "language_info": {
   "codemirror_mode": {
    "name": "ipython",
    "version": 2
   },
   "file_extension": ".py",
   "mimetype": "text/x-python",
   "name": "python",
   "nbconvert_exporter": "python",
   "pygments_lexer": "ipython2",
   "version": "2.7.15"
  },
  "widgets": {
   "state": {},
   "version": "1.1.2"
  }
 },
 "nbformat": 4,
 "nbformat_minor": 2
}
