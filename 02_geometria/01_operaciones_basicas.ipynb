{
 "cells": [
  {
   "cell_type": "markdown",
   "metadata": {},
   "source": [
    "# Vision Computacional\n",
    "\n",
    "Bienvenidos al curso de visión computacional.\n",
    "\n",
    "En esta materia de posgrado el estudiante aprenderá las bases de la visión computacional así como diversas técnicas relevantes en dicha área.  Al finalizar el curso el estudiante deberá ser capaz de comprender los alcances y limitaciones de la visión computacional, además de adquirir habilidad en la implementación de las técnicas más recientes.\n",
    "\n",
    "Irving Vasquez\n",
    "\n",
    "@juan1irving"
   ]
  },
  {
   "cell_type": "markdown",
   "metadata": {},
   "source": [
    "## Importar paquetes"
   ]
  },
  {
   "cell_type": "code",
   "execution_count": null,
   "metadata": {
    "collapsed": true
   },
   "outputs": [],
   "source": [
    "# Antes debemos de decirle al intérprete que paquetes necesitamos\n",
    "\n",
    "import matplotlib.pyplot as plt\n",
    "import matplotlib.image as mpimg\n",
    "import numpy as np\n",
    "import cv2\n",
    "%matplotlib inline"
   ]
  },
  {
   "cell_type": "markdown",
   "metadata": {},
   "source": [
    "## Leer una imagen\n",
    "\n",
    "Lo primero que haremos es leer un archivo de imagen"
   ]
  },
  {
   "cell_type": "code",
   "execution_count": null,
   "metadata": {},
   "outputs": [],
   "source": [
    "# Leer la imagen\n",
    "image = mpimg.imread('Lenna.png')\n",
    "print(img_suma)\n",
    "\n",
    "# Desplegar información y graficar la imagen\n",
    "print('Esta imagen es de tipo:', type(image), 'con dimensiones:', image.shape)\n",
    "plt.imshow(image)  \n"
   ]
  },
  {
   "cell_type": "code",
   "execution_count": null,
   "metadata": {},
   "outputs": [],
   "source": [
    "# Si deseas desplegar la imagen en escala de grises puedes realizar:  \n",
    "\n",
    "gray_image = cv2.cvtColor(image, cv2.COLOR_BGR2GRAY)\n",
    "\n",
    "print('Esta imagen es de tipo:', type(gray_image), 'con dimensiones:', gray_image.shape)\n",
    "plt.imshow(gray_image, cmap='gray')\n"
   ]
  },
  {
   "cell_type": "markdown",
   "metadata": {},
   "source": [
    "## Operaciones básicas\n",
    "\n",
    "Si vemos a la imagen como una matriz entonces podemos realizar todas las operaciones matriciales que ya conocemos:\n",
    "\n",
    "- Suma\n",
    "- Resta\n",
    "- Multiplicacion"
   ]
  },
  {
   "cell_type": "code",
   "execution_count": null,
   "metadata": {},
   "outputs": [],
   "source": [
    "#Leer otra imagen\n",
    "\n",
    "img_mono = mpimg.imread('Monkey.png')\n",
    "\n",
    "# Desplegar información y graficar la imagen\n",
    "plt.imshow(img_mono)  \n",
    "\n",
    "#convertimos a escala de grises\n",
    "gray_image2 = cv2.cvtColor(img_mono, cv2.COLOR_BGR2GRAY)"
   ]
  },
  {
   "cell_type": "code",
   "execution_count": null,
   "metadata": {},
   "outputs": [],
   "source": [
    "# Sumar ambas imágenes\n",
    "\n",
    "img_suma = gray_image + gray_image2\n",
    "plt.imshow(img_suma)\n"
   ]
  },
  {
   "cell_type": "code",
   "execution_count": null,
   "metadata": {},
   "outputs": [],
   "source": [
    "# Restar las imágenes\n",
    "\n",
    "img_resta = gray_image - gray_image2\n",
    "plt.imshow(img_resta)"
   ]
  },
  {
   "cell_type": "code",
   "execution_count": null,
   "metadata": {
    "collapsed": true
   },
   "outputs": [],
   "source": []
  }
 ],
 "metadata": {
  "kernelspec": {
   "display_name": "Python 3",
   "language": "python",
   "name": "python3"
  },
  "language_info": {
   "codemirror_mode": {
    "name": "ipython",
    "version": 3
   },
   "file_extension": ".py",
   "mimetype": "text/x-python",
   "name": "python",
   "nbconvert_exporter": "python",
   "pygments_lexer": "ipython3",
   "version": "3.5.2"
  },
  "widgets": {
   "state": {},
   "version": "1.1.2"
  }
 },
 "nbformat": 4,
 "nbformat_minor": 2
}
