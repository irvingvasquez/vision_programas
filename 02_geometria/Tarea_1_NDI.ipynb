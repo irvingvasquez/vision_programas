{
 "cells": [
  {
   "cell_type": "markdown",
   "metadata": {},
   "source": [
    "# Miniproyecto 1: Índice NDI\n",
    "\n",
    "La primer tarea será calcular el índice NDI que se utiliza como indicador de la salud de las plantas. Como imagen de entrada utilizaremos un mosaico de la ESCOM generado con vuelos aéreos. El objetivo de esta practica es que apliques las operaciones básicas que hemos visto y que seas capaz de mantener los valores de los pixeles en un rango de cuantización adecuado o que selecciones el tipo de dato necesario.\n",
    "\n",
    "De acuerdo con [1], el NDI se calcula: \n",
    " \n",
    "\\begin{equation}\n",
    " NDI = \\frac{G - R}{G + R}\n",
    "\\end{equation}\n",
    " \n",
    "Nota, en el artículo de Meyer[1] la división está al revés, al parecer es un error del artículo.\n",
    "\n",
    "Adicionalmente, puedes intentar calcular un indice más elaborado como es el MGRVI o el RGBVI [2].\n",
    "\n",
    "### Referencias\n",
    "\n",
    "[1] Meyer, George E., and João Camargo Neto. Verification of color vegetation indices for automated crop imaging applications. Computers and electronics in agriculture 63.2 (2008): 282-293\n",
    "\n",
    "[2] Bendig, Juliane, et al. Combining UAV-based plant height from crop surface models, visible, and near infrared vegetation indices for biomass monitoring in barley. International Journal of Applied Earth Observation and Geoinformation 39 (2015): 79-87."
   ]
  },
  {
   "cell_type": "code",
   "execution_count": null,
   "metadata": {},
   "outputs": [],
   "source": [
    "import matplotlib.pyplot as plt\n",
    "import matplotlib.image as mpimg\n",
    "import numpy as np\n",
    "import cv2\n",
    "\n",
    "%matplotlib inline"
   ]
  },
  {
   "cell_type": "code",
   "execution_count": null,
   "metadata": {},
   "outputs": [],
   "source": [
    "# Leer la imagen \n",
    "image = cv2.imread('ESCOM2_small.jpg')\n",
    "print('Esta imagen es de tipo:', image.dtype, 'con dimensiones:', image.shape)\n",
    "\n",
    "# Obtener los tres canales de la imagen\n",
    "b,g,r = cv2.split(image)\n",
    "\n",
    "# Mostrar los canales\n",
    "plt.figure(figsize=(10, 10))\n",
    "\n",
    "plt.subplot(2,2,1)\n",
    "plt.imshow(cv2.cvtColor(image, cv2.COLOR_BGR2RGB))\n",
    "plt.title('RGB')\n",
    "\n",
    "plt.subplot(2,2,2)\n",
    "plt.imshow(r, cmap='gray')\n",
    "plt.title('Red')\n",
    "\n",
    "plt.subplot(2,2,3)\n",
    "plt.imshow(g, cmap='gray')\n",
    "plt.title('Green')\n",
    "\n",
    "plt.subplot(2,2,4)\n",
    "plt.imshow(b, cmap='gray')\n",
    "plt.title('Blue')\n",
    "plt.show()"
   ]
  },
  {
   "cell_type": "markdown",
   "metadata": {},
   "source": [
    "Es importante notar cual es el rango que tienen los valores de gris. Como ejemplo desplegaremos el canal rojo."
   ]
  },
  {
   "cell_type": "code",
   "execution_count": null,
   "metadata": {},
   "outputs": [],
   "source": [
    "print(r)\n",
    "\n",
    "print('\\n El valor máximo en la imagen es:')\n",
    "print(np.amax(r))\n",
    "print('\\n y valor minimo es:')\n",
    "print(np.amin(r))"
   ]
  },
  {
   "cell_type": "markdown",
   "metadata": {},
   "source": [
    " Como puedes observar los valores son número enteros que tienen como máximo el 255. Asi que la imagen final deberá de estar en ese rango para ser visualizada.\n",
    " "
   ]
  },
  {
   "cell_type": "code",
   "execution_count": null,
   "metadata": {},
   "outputs": [],
   "source": [
    "# TODO: Insertar el código para calcular el índice NDI\n",
    "\n",
    "# Debes de tomar en cuenta que debes permanecer en el rango adecuado. Una función útil es cv2.addWeighted().\n",
    "# La suma y la resta se pueden trabajar en enteros, sin embargo, la división es preferible mantenerla en flotante\n",
    "# puedes usar la función imagen.astype('float32') para convertir a flotante\n",
    "#------------------------------------------------------------------------\n",
    "\n",
    "NDI = None\n",
    "\n",
    "plt.imshow(NDI, cmap='gray')\n",
    "plt.show()"
   ]
  },
  {
   "cell_type": "markdown",
   "metadata": {},
   "source": [
    "Si todo funcionó debes visualizar las imagenes de la siguiente forma:\n",
    "\n",
    "suma = ![suma](suma.png)\n",
    "resta = ![resta](resta.png)\n",
    "NDI = ![ndi](ndi.png)\n",
    "\n",
    "Como podras ver el índice no es muy claro, esto se debe a la división la cual no es lineal. Asi que haremos un umbralizado, por ahora no es importante como se hace el umbralizado, solo es importante que observes el cambio visual y encuentres una correspondencia entre las áreas verdes y las áreas resaltadas despúes del umbralizado.\n"
   ]
  },
  {
   "cell_type": "code",
   "execution_count": null,
   "metadata": {},
   "outputs": [],
   "source": [
    "# Para visualizar el índice umbralizaremos la imagen\n",
    "# Puedes probar diversos valores del umbral si lo deseas\n",
    "\n",
    "umbral = 1.1\n",
    "\n",
    "# Thresholding\n",
    "ret2,th1 =  cv2.threshold(NDI, umbral, 255.0, cv2.THRESH_BINARY)\n",
    "\n",
    "# Comparación\n",
    "plt.figure(figsize=(10, 10))\n",
    "\n",
    "plt.subplot(2,2,1)\n",
    "plt.imshow(image)\n",
    "plt.title('RGB')\n",
    "\n",
    "plt.subplot(2,2,2)\n",
    "plt.imshow(th1)\n"
   ]
  },
  {
   "cell_type": "markdown",
   "metadata": {},
   "source": [
    "Finalmente si todo funcionó debes visualizar algo como lo siguiente:\n",
    "\n",
    "![comparacion](comparacion.png)\n",
    "\n",
    "Ve más allá. ¿Puedes obtener los resultados del paper[2]?\n",
    "\n"
   ]
  },
  {
   "cell_type": "code",
   "execution_count": null,
   "metadata": {},
   "outputs": [],
   "source": []
  }
 ],
 "metadata": {
  "kernelspec": {
   "display_name": "Python 3",
   "language": "python",
   "name": "python3"
  },
  "language_info": {
   "codemirror_mode": {
    "name": "ipython",
    "version": 3
   },
   "file_extension": ".py",
   "mimetype": "text/x-python",
   "name": "python",
   "nbconvert_exporter": "python",
   "pygments_lexer": "ipython3",
   "version": "3.6.8"
  },
  "widgets": {
   "state": {},
   "version": "1.1.2"
  }
 },
 "nbformat": 4,
 "nbformat_minor": 2
}
