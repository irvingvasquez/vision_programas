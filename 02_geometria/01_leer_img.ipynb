{
 "cells": [
  {
   "cell_type": "markdown",
   "metadata": {},
   "source": [
    "# Leer archivo de imagen\n",
    "\n",
    "En este primer ejemplo de programación leeremos un archivo de imagen y observaremos sus características."
   ]
  },
  {
   "cell_type": "code",
   "execution_count": null,
   "metadata": {},
   "outputs": [],
   "source": [
    "# El primer paso es decirle al intérprete que paquetes necesitamos\n",
    "import matplotlib.pyplot as plt\n",
    "import cv2\n",
    "%matplotlib inline"
   ]
  },
  {
   "cell_type": "markdown",
   "metadata": {},
   "source": [
    "A continuación usaremos la función de *opencv* \"imread\" para leer la imagen de Lenna y convertirla a una matriz."
   ]
  },
  {
   "cell_type": "code",
   "execution_count": null,
   "metadata": {},
   "outputs": [],
   "source": [
    "# Ejercicio: Leer la imagen 'Lenna.png' con opencv y la función imread\n",
    "image = None\n",
    "\n",
    "# imprimir los valores de los pixeles en la imagen\n",
    "print(image)"
   ]
  },
  {
   "cell_type": "code",
   "execution_count": null,
   "metadata": {},
   "outputs": [],
   "source": [
    "# Para obtener información de la imagen podemos utilizar dtype y shape\n",
    "print(image.shape)\n",
    "print(image.dtype)"
   ]
  },
  {
   "cell_type": "code",
   "execution_count": null,
   "metadata": {},
   "outputs": [],
   "source": [
    "# Graficar la imagen. \n",
    "# Nota: OpenCV lee los canales de la imagen como BGR, \n",
    "# asi que para graficarla es necesario antes convertirla a RGB y que la entienda matplotlib\n",
    "plt.imshow(cv2.cvtColor(image, cv2.COLOR_BGR2RGB))  "
   ]
  },
  {
   "cell_type": "code",
   "execution_count": null,
   "metadata": {},
   "outputs": [],
   "source": [
    "# Si deseas desplegar la imagen en escala de grises puedes convertirla a un solo canal y después mostrarla.  \n",
    "gray_image = cv2.cvtColor(image, cv2.COLOR_BGR2GRAY)\n",
    "\n",
    "# Ejercicio: Obtener información de la imagen de gris usando funciones de numpy dtype y shape\n",
    "im_type = None\n",
    "shape = None\n",
    "\n",
    "print('Esta imagen es de tipo:', gray_image.dtype, 'con dimensiones:', gray_image.shape)\n",
    "plt.imshow(gray_image, cmap='gray')\n"
   ]
  },
  {
   "cell_type": "markdown",
   "metadata": {},
   "source": [
    "## Ejercicio:\n",
    "\n",
    "Dada la imagen 'Monkey.png'. Determina: i) El muestreo. ii) La cuantización."
   ]
  },
  {
   "cell_type": "code",
   "execution_count": null,
   "metadata": {},
   "outputs": [],
   "source": [
    "# Escribe el muestreo como una tupla\n",
    "sampling = None\n",
    "\n",
    "# Escribe la cuantización como un tipo de dato\n",
    "quantization = None"
   ]
  },
  {
   "cell_type": "code",
   "execution_count": null,
   "metadata": {},
   "outputs": [],
   "source": []
  }
 ],
 "metadata": {
  "kernelspec": {
   "display_name": "Python 2",
   "language": "python",
   "name": "python2"
  },
  "language_info": {
   "codemirror_mode": {
    "name": "ipython",
    "version": 2
   },
   "file_extension": ".py",
   "mimetype": "text/x-python",
   "name": "python",
   "nbconvert_exporter": "python",
   "pygments_lexer": "ipython2",
   "version": "2.7.15"
  },
  "widgets": {
   "state": {},
   "version": "1.1.2"
  }
 },
 "nbformat": 4,
 "nbformat_minor": 2
}
